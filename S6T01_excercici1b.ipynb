{
 "cells": [
  {
   "cell_type": "markdown",
   "id": "930eeaf1",
   "metadata": {},
   "source": [
    "### Exercici 1"
   ]
  },
  {
   "cell_type": "code",
   "execution_count": 108,
   "id": "e6d9b5b8",
   "metadata": {},
   "outputs": [],
   "source": [
    "import pandas as pd\n",
    "import numpy as np\n",
    "from numpy import random\n",
    "from imblearn.over_sampling import SMOTE\n",
    "import random"
   ]
  },
  {
   "cell_type": "code",
   "execution_count": 2,
   "id": "0576dfc3",
   "metadata": {
    "scrolled": true
   },
   "outputs": [
    {
     "name": "stderr",
     "output_type": "stream",
     "text": [
      "/Users/psans/opt/anaconda3/lib/python3.8/site-packages/IPython/core/interactiveshell.py:3165: DtypeWarning: Columns (17) have mixed types.Specify dtype option on import or set low_memory=False.\n",
      "  has_raised = await self.run_ast_nodes(code_ast.body, cell_name,\n"
     ]
    },
    {
     "data": {
      "text/html": [
       "<div>\n",
       "<style scoped>\n",
       "    .dataframe tbody tr th:only-of-type {\n",
       "        vertical-align: middle;\n",
       "    }\n",
       "\n",
       "    .dataframe tbody tr th {\n",
       "        vertical-align: top;\n",
       "    }\n",
       "\n",
       "    .dataframe thead th {\n",
       "        text-align: right;\n",
       "    }\n",
       "</style>\n",
       "<table border=\"1\" class=\"dataframe\">\n",
       "  <thead>\n",
       "    <tr style=\"text-align: right;\">\n",
       "      <th></th>\n",
       "      <th>Unnamed: 0</th>\n",
       "      <th>loser_age</th>\n",
       "      <th>loser_hand</th>\n",
       "      <th>loser_ioc</th>\n",
       "      <th>loser_name</th>\n",
       "      <th>loser_rank</th>\n",
       "      <th>round</th>\n",
       "      <th>surface</th>\n",
       "      <th>tourney_level</th>\n",
       "      <th>tourney_name</th>\n",
       "      <th>winner_age</th>\n",
       "      <th>winner_entry</th>\n",
       "      <th>winner_hand</th>\n",
       "      <th>winner_ht</th>\n",
       "      <th>winner_ioc</th>\n",
       "      <th>winner_name</th>\n",
       "      <th>winner_rank</th>\n",
       "      <th>winner_seed</th>\n",
       "      <th>year</th>\n",
       "    </tr>\n",
       "  </thead>\n",
       "  <tbody>\n",
       "    <tr>\n",
       "      <th>0</th>\n",
       "      <td>0</td>\n",
       "      <td>17</td>\n",
       "      <td>R</td>\n",
       "      <td>CRO</td>\n",
       "      <td>Mirjana Lucic</td>\n",
       "      <td>49.0</td>\n",
       "      <td>R128</td>\n",
       "      <td>Hard</td>\n",
       "      <td>G</td>\n",
       "      <td>Australian Open</td>\n",
       "      <td>19</td>\n",
       "      <td>NaN</td>\n",
       "      <td>R</td>\n",
       "      <td>170.0</td>\n",
       "      <td>SUI</td>\n",
       "      <td>Martina Hingis</td>\n",
       "      <td>1.0</td>\n",
       "      <td>1.0</td>\n",
       "      <td>2000.0</td>\n",
       "    </tr>\n",
       "    <tr>\n",
       "      <th>1</th>\n",
       "      <td>1</td>\n",
       "      <td>27</td>\n",
       "      <td>R</td>\n",
       "      <td>AUS</td>\n",
       "      <td>Kerry Anne Guse</td>\n",
       "      <td>133.0</td>\n",
       "      <td>R128</td>\n",
       "      <td>Hard</td>\n",
       "      <td>G</td>\n",
       "      <td>Australian Open</td>\n",
       "      <td>17</td>\n",
       "      <td>NaN</td>\n",
       "      <td>R</td>\n",
       "      <td>167.0</td>\n",
       "      <td>BEL</td>\n",
       "      <td>Justine Henin</td>\n",
       "      <td>63.0</td>\n",
       "      <td>NaN</td>\n",
       "      <td>2000.0</td>\n",
       "    </tr>\n",
       "    <tr>\n",
       "      <th>2</th>\n",
       "      <td>2</td>\n",
       "      <td>31</td>\n",
       "      <td>R</td>\n",
       "      <td>USA</td>\n",
       "      <td>Jolene Watanabe Giltz</td>\n",
       "      <td>118.0</td>\n",
       "      <td>R128</td>\n",
       "      <td>Hard</td>\n",
       "      <td>G</td>\n",
       "      <td>Australian Open</td>\n",
       "      <td>26</td>\n",
       "      <td>NaN</td>\n",
       "      <td>R</td>\n",
       "      <td>NaN</td>\n",
       "      <td>SVK</td>\n",
       "      <td>Karina Habsudova</td>\n",
       "      <td>53.0</td>\n",
       "      <td>NaN</td>\n",
       "      <td>2000.0</td>\n",
       "    </tr>\n",
       "    <tr>\n",
       "      <th>3</th>\n",
       "      <td>3</td>\n",
       "      <td>22</td>\n",
       "      <td>R</td>\n",
       "      <td>CRO</td>\n",
       "      <td>Silvija Talaja</td>\n",
       "      <td>23.0</td>\n",
       "      <td>R128</td>\n",
       "      <td>Hard</td>\n",
       "      <td>G</td>\n",
       "      <td>Australian Open</td>\n",
       "      <td>18</td>\n",
       "      <td>NaN</td>\n",
       "      <td>R</td>\n",
       "      <td>182.0</td>\n",
       "      <td>AUS</td>\n",
       "      <td>Alicia Molik</td>\n",
       "      <td>116.0</td>\n",
       "      <td>NaN</td>\n",
       "      <td>2000.0</td>\n",
       "    </tr>\n",
       "    <tr>\n",
       "      <th>4</th>\n",
       "      <td>4</td>\n",
       "      <td>24</td>\n",
       "      <td>R</td>\n",
       "      <td>ITA</td>\n",
       "      <td>Rita Grande</td>\n",
       "      <td>60.0</td>\n",
       "      <td>R128</td>\n",
       "      <td>Hard</td>\n",
       "      <td>G</td>\n",
       "      <td>Australian Open</td>\n",
       "      <td>22</td>\n",
       "      <td>NaN</td>\n",
       "      <td>R</td>\n",
       "      <td>165.0</td>\n",
       "      <td>THA</td>\n",
       "      <td>Tamarine Tanasugarn</td>\n",
       "      <td>72.0</td>\n",
       "      <td>NaN</td>\n",
       "      <td>2000.0</td>\n",
       "    </tr>\n",
       "  </tbody>\n",
       "</table>\n",
       "</div>"
      ],
      "text/plain": [
       "   Unnamed: 0  loser_age loser_hand loser_ioc             loser_name  \\\n",
       "0           0         17          R       CRO          Mirjana Lucic   \n",
       "1           1         27          R       AUS        Kerry Anne Guse   \n",
       "2           2         31          R       USA  Jolene Watanabe Giltz   \n",
       "3           3         22          R       CRO         Silvija Talaja   \n",
       "4           4         24          R       ITA            Rita Grande   \n",
       "\n",
       "   loser_rank round surface tourney_level     tourney_name  winner_age  \\\n",
       "0        49.0  R128    Hard             G  Australian Open          19   \n",
       "1       133.0  R128    Hard             G  Australian Open          17   \n",
       "2       118.0  R128    Hard             G  Australian Open          26   \n",
       "3        23.0  R128    Hard             G  Australian Open          18   \n",
       "4        60.0  R128    Hard             G  Australian Open          22   \n",
       "\n",
       "  winner_entry winner_hand  winner_ht winner_ioc          winner_name  \\\n",
       "0          NaN           R      170.0        SUI       Martina Hingis   \n",
       "1          NaN           R      167.0        BEL        Justine Henin   \n",
       "2          NaN           R        NaN        SVK     Karina Habsudova   \n",
       "3          NaN           R      182.0        AUS         Alicia Molik   \n",
       "4          NaN           R      165.0        THA  Tamarine Tanasugarn   \n",
       "\n",
       "   winner_rank winner_seed    year  \n",
       "0          1.0         1.0  2000.0  \n",
       "1         63.0         NaN  2000.0  \n",
       "2         53.0         NaN  2000.0  \n",
       "3        116.0         NaN  2000.0  \n",
       "4         72.0         NaN  2000.0  "
      ]
     },
     "execution_count": 2,
     "metadata": {},
     "output_type": "execute_result"
    }
   ],
   "source": [
    "df = pd.read_csv('tennis.csv')\n",
    "df.head()"
   ]
  },
  {
   "cell_type": "code",
   "execution_count": 3,
   "id": "a463b536",
   "metadata": {},
   "outputs": [],
   "source": [
    "final = df.copy()"
   ]
  },
  {
   "cell_type": "code",
   "execution_count": 4,
   "id": "9c536d3e",
   "metadata": {},
   "outputs": [],
   "source": [
    "final.drop(df[ df['round'] != 'F' ].index, inplace = True)"
   ]
  },
  {
   "cell_type": "code",
   "execution_count": 5,
   "id": "fafcdd2c",
   "metadata": {},
   "outputs": [
    {
     "data": {
      "text/html": [
       "<div>\n",
       "<style scoped>\n",
       "    .dataframe tbody tr th:only-of-type {\n",
       "        vertical-align: middle;\n",
       "    }\n",
       "\n",
       "    .dataframe tbody tr th {\n",
       "        vertical-align: top;\n",
       "    }\n",
       "\n",
       "    .dataframe thead th {\n",
       "        text-align: right;\n",
       "    }\n",
       "</style>\n",
       "<table border=\"1\" class=\"dataframe\">\n",
       "  <thead>\n",
       "    <tr style=\"text-align: right;\">\n",
       "      <th></th>\n",
       "      <th>loser_age</th>\n",
       "      <th>winner_age</th>\n",
       "      <th>round</th>\n",
       "    </tr>\n",
       "  </thead>\n",
       "  <tbody>\n",
       "    <tr>\n",
       "      <th>0</th>\n",
       "      <td>17</td>\n",
       "      <td>19</td>\n",
       "      <td>R128</td>\n",
       "    </tr>\n",
       "    <tr>\n",
       "      <th>1</th>\n",
       "      <td>27</td>\n",
       "      <td>17</td>\n",
       "      <td>R128</td>\n",
       "    </tr>\n",
       "    <tr>\n",
       "      <th>2</th>\n",
       "      <td>31</td>\n",
       "      <td>26</td>\n",
       "      <td>R128</td>\n",
       "    </tr>\n",
       "    <tr>\n",
       "      <th>3</th>\n",
       "      <td>22</td>\n",
       "      <td>18</td>\n",
       "      <td>R128</td>\n",
       "    </tr>\n",
       "    <tr>\n",
       "      <th>4</th>\n",
       "      <td>24</td>\n",
       "      <td>22</td>\n",
       "      <td>R128</td>\n",
       "    </tr>\n",
       "  </tbody>\n",
       "</table>\n",
       "</div>"
      ],
      "text/plain": [
       "   loser_age  winner_age round\n",
       "0         17          19  R128\n",
       "1         27          17  R128\n",
       "2         31          26  R128\n",
       "3         22          18  R128\n",
       "4         24          22  R128"
      ]
     },
     "execution_count": 5,
     "metadata": {},
     "output_type": "execute_result"
    }
   ],
   "source": [
    "final = df[['loser_age','winner_age', 'round']].reset_index()\n",
    "final = final.drop('index', 1)\n",
    "final.head()"
   ]
  },
  {
   "cell_type": "markdown",
   "id": "a228ed8e",
   "metadata": {},
   "source": [
    "##### Simple random sampling. Edat mitjana de les perdedores de les finals:"
   ]
  },
  {
   "cell_type": "code",
   "execution_count": 6,
   "id": "ff6b5063",
   "metadata": {},
   "outputs": [
    {
     "name": "stdout",
     "output_type": "stream",
     "text": [
      "Comparació de l'edat mitjana d'una mostra de 100:\n",
      " 23.74 anys \n",
      " i la mitjana del total de la mostra:\n",
      " 23.41 anys\n"
     ]
    }
   ],
   "source": [
    "loosers = final.sample(100)\n",
    "print('Comparació de l\\'edat mitjana d\\'una mostra de 100:'\n",
    "      '\\n',loosers['loser_age'].mean(), 'anys',\n",
    "      '\\n','i la mitjana del total de la mostra:'\n",
    "      '\\n',\"{:.2f}\".format(final['loser_age'].mean()), 'anys')"
   ]
  },
  {
   "cell_type": "markdown",
   "id": "9dc3a664",
   "metadata": {},
   "source": [
    "##### Systematic Random Sampling. Edat mitjana de les guanyadores de les finals:"
   ]
  },
  {
   "cell_type": "code",
   "execution_count": 7,
   "id": "eeafd99f",
   "metadata": {},
   "outputs": [
    {
     "data": {
      "text/html": [
       "<div>\n",
       "<style scoped>\n",
       "    .dataframe tbody tr th:only-of-type {\n",
       "        vertical-align: middle;\n",
       "    }\n",
       "\n",
       "    .dataframe tbody tr th {\n",
       "        vertical-align: top;\n",
       "    }\n",
       "\n",
       "    .dataframe thead th {\n",
       "        text-align: right;\n",
       "    }\n",
       "</style>\n",
       "<table border=\"1\" class=\"dataframe\">\n",
       "  <thead>\n",
       "    <tr style=\"text-align: right;\">\n",
       "      <th></th>\n",
       "      <th>loser_age</th>\n",
       "      <th>winner_age</th>\n",
       "      <th>round</th>\n",
       "    </tr>\n",
       "  </thead>\n",
       "  <tbody>\n",
       "    <tr>\n",
       "      <th>3</th>\n",
       "      <td>22</td>\n",
       "      <td>18</td>\n",
       "      <td>R128</td>\n",
       "    </tr>\n",
       "    <tr>\n",
       "      <th>23</th>\n",
       "      <td>25</td>\n",
       "      <td>24</td>\n",
       "      <td>R128</td>\n",
       "    </tr>\n",
       "    <tr>\n",
       "      <th>43</th>\n",
       "      <td>25</td>\n",
       "      <td>23</td>\n",
       "      <td>R128</td>\n",
       "    </tr>\n",
       "    <tr>\n",
       "      <th>63</th>\n",
       "      <td>24</td>\n",
       "      <td>23</td>\n",
       "      <td>R128</td>\n",
       "    </tr>\n",
       "    <tr>\n",
       "      <th>83</th>\n",
       "      <td>26</td>\n",
       "      <td>23</td>\n",
       "      <td>R64</td>\n",
       "    </tr>\n",
       "  </tbody>\n",
       "</table>\n",
       "</div>"
      ],
      "text/plain": [
       "    loser_age  winner_age round\n",
       "3          22          18  R128\n",
       "23         25          24  R128\n",
       "43         25          23  R128\n",
       "63         24          23  R128\n",
       "83         26          23   R64"
      ]
     },
     "execution_count": 7,
     "metadata": {},
     "output_type": "execute_result"
    }
   ],
   "source": [
    "def winners(final, step):\n",
    "    x = random.randint(step)  \n",
    "    indexes = np.arange(x, len(final), step=step)\n",
    "    systematic_sample = final.iloc[indexes]\n",
    "    return systematic_sample\n",
    "winners = winners(final, 20)\n",
    "winners.head()"
   ]
  },
  {
   "cell_type": "code",
   "execution_count": 8,
   "id": "4df45dfd",
   "metadata": {},
   "outputs": [
    {
     "name": "stdout",
     "output_type": "stream",
     "text": [
      "Comparació de l'edat mitjana d'una mostra de cada 15 entrades:\n",
      " 23.53 anys \n",
      " i la mitjana del total de la mostra:\n",
      " 23.54 anys\n"
     ]
    }
   ],
   "source": [
    "print('Comparació de l\\'edat mitjana d\\'una mostra de cada 15 entrades:'\n",
    "      '\\n',\"{:.2f}\".format(winners['winner_age'].mean()), 'anys',\n",
    "      '\\n','i la mitjana del total de la mostra:'\n",
    "      '\\n',\"{:.2f}\".format(final['winner_age'].mean()), 'anys')"
   ]
  },
  {
   "cell_type": "markdown",
   "id": "233a9157",
   "metadata": {},
   "source": [
    "### Exercici 2"
   ]
  },
  {
   "cell_type": "markdown",
   "id": "4689a9ca",
   "metadata": {},
   "source": [
    "##### mostra estratificada"
   ]
  },
  {
   "cell_type": "code",
   "execution_count": 9,
   "id": "537f8b6e",
   "metadata": {},
   "outputs": [
    {
     "data": {
      "text/plain": [
       "Hard      28931\n",
       "Clay      15159\n",
       "Grass      5000\n",
       "Carpet     1433\n",
       "Name: surface, dtype: int64"
      ]
     },
     "execution_count": 9,
     "metadata": {},
     "output_type": "execute_result"
    }
   ],
   "source": [
    "df['surface'].value_counts()"
   ]
  },
  {
   "cell_type": "code",
   "execution_count": 10,
   "id": "a227f628",
   "metadata": {},
   "outputs": [],
   "source": [
    "#número total de la mostra estratificada\n",
    "N = 200\n",
    "#generar la mostra proporcionalment\n",
    "df_st=df.groupby('surface', group_keys=False).apply(lambda x: x.sample(int(np.rint(N*len(x)/len(df))))).sample(frac=1).reset_index(drop=True)"
   ]
  },
  {
   "cell_type": "code",
   "execution_count": 11,
   "id": "d8140178",
   "metadata": {},
   "outputs": [
    {
     "data": {
      "text/plain": [
       "Hard      114\n",
       "Clay       60\n",
       "Grass      20\n",
       "Carpet      6\n",
       "Name: surface, dtype: int64"
      ]
     },
     "execution_count": 11,
     "metadata": {},
     "output_type": "execute_result"
    }
   ],
   "source": [
    "df_st['surface'].value_counts()"
   ]
  },
  {
   "cell_type": "code",
   "execution_count": 12,
   "id": "400a8920",
   "metadata": {},
   "outputs": [
    {
     "name": "stdout",
     "output_type": "stream",
     "text": [
      "Comparació de l'alçada mitjana d'una mostra estratificada per tipus de superfícies:\n",
      " 173.01 anys \n",
      " i la mitjana del total de la mostra:\n",
      " 173.54 anys\n"
     ]
    }
   ],
   "source": [
    "print('Comparació de l\\'alçada mitjana d\\'una mostra estratificada per tipus de superfícies:'\n",
    "      '\\n',\"{:.2f}\".format(df_st['winner_ht'].mean()), 'anys',\n",
    "      '\\n','i la mitjana del total de la mostra:'\n",
    "      '\\n',\"{:.2f}\".format(df['winner_ht'].mean()), 'anys')"
   ]
  },
  {
   "cell_type": "markdown",
   "id": "2a3aeacd",
   "metadata": {},
   "source": [
    "##### SMOTE"
   ]
  },
  {
   "cell_type": "code",
   "execution_count": 13,
   "id": "d012a6a1",
   "metadata": {},
   "outputs": [
    {
     "data": {
      "text/plain": [
       "R    44073\n",
       "L     4139\n",
       "U     2023\n",
       "Name: winner_hand, dtype: int64"
      ]
     },
     "execution_count": 13,
     "metadata": {},
     "output_type": "execute_result"
    }
   ],
   "source": [
    "df['winner_hand'].value_counts()"
   ]
  },
  {
   "cell_type": "code",
   "execution_count": 14,
   "id": "4136f98c",
   "metadata": {},
   "outputs": [],
   "source": [
    "df_smote = df[['winner_hand', 'winner_rank']].copy()"
   ]
  },
  {
   "cell_type": "code",
   "execution_count": 15,
   "id": "9160f06e",
   "metadata": {},
   "outputs": [
    {
     "data": {
      "text/plain": [
       "<matplotlib.axes._subplots.AxesSubplot at 0x7fd90dc62640>"
      ]
     },
     "execution_count": 15,
     "metadata": {},
     "output_type": "execute_result"
    },
    {
     "data": {
      "image/png": "[encoded data removed]",
      "text/plain": [
       "<Figure size 720x432 with 1 Axes>"
      ]
     },
     "metadata": {
      "needs_background": "light"
     },
     "output_type": "display_data"
    }
   ],
   "source": [
    "df_smote['winner_hand'].value_counts().plot(kind='bar', figsize=(10, 6), fontsize=13, color='#087E8B')"
   ]
  },
  {
   "cell_type": "code",
   "execution_count": 16,
   "id": "cb38e92e",
   "metadata": {},
   "outputs": [],
   "source": [
    "df_smote.drop(df_smote[ df_smote['winner_hand'] == 'U' ].index, inplace = True)"
   ]
  },
  {
   "cell_type": "code",
   "execution_count": 17,
   "id": "a0c00d3f",
   "metadata": {},
   "outputs": [
    {
     "data": {
      "text/plain": [
       "R    44073\n",
       "L     4139\n",
       "Name: winner_hand, dtype: int64"
      ]
     },
     "execution_count": 17,
     "metadata": {},
     "output_type": "execute_result"
    }
   ],
   "source": [
    "df_smote['winner_hand'].value_counts()"
   ]
  },
  {
   "cell_type": "code",
   "execution_count": 18,
   "id": "75d06aa2",
   "metadata": {},
   "outputs": [
    {
     "data": {
      "text/plain": [
       "winner_hand     339\n",
       "winner_rank    1108\n",
       "dtype: int64"
      ]
     },
     "execution_count": 18,
     "metadata": {},
     "output_type": "execute_result"
    }
   ],
   "source": [
    "df_smote.isnull().sum()"
   ]
  },
  {
   "cell_type": "code",
   "execution_count": 19,
   "id": "9de1f95f",
   "metadata": {},
   "outputs": [
    {
     "data": {
      "text/plain": [
       "winner_hand    0\n",
       "winner_rank    0\n",
       "dtype: int64"
      ]
     },
     "execution_count": 19,
     "metadata": {},
     "output_type": "execute_result"
    }
   ],
   "source": [
    "df_smote.dropna(inplace=True)\n",
    "df_smote.isnull().sum()"
   ]
  },
  {
   "cell_type": "code",
   "execution_count": 20,
   "id": "75b3cff5",
   "metadata": {},
   "outputs": [
    {
     "name": "stdout",
     "output_type": "stream",
     "text": [
      "R    43352\n",
      "L     4091\n",
      "Name: winner_hand, dtype: int64\n"
     ]
    }
   ],
   "source": [
    "print(df_smote.winner_hand.value_counts())"
   ]
  },
  {
   "cell_type": "code",
   "execution_count": 21,
   "id": "89569b25",
   "metadata": {},
   "outputs": [
    {
     "data": {
      "text/html": [
       "<div>\n",
       "<style scoped>\n",
       "    .dataframe tbody tr th:only-of-type {\n",
       "        vertical-align: middle;\n",
       "    }\n",
       "\n",
       "    .dataframe tbody tr th {\n",
       "        vertical-align: top;\n",
       "    }\n",
       "\n",
       "    .dataframe thead th {\n",
       "        text-align: right;\n",
       "    }\n",
       "</style>\n",
       "<table border=\"1\" class=\"dataframe\">\n",
       "  <thead>\n",
       "    <tr style=\"text-align: right;\">\n",
       "      <th></th>\n",
       "      <th>winner_hand</th>\n",
       "      <th>winner_rank</th>\n",
       "    </tr>\n",
       "  </thead>\n",
       "  <tbody>\n",
       "    <tr>\n",
       "      <th>0</th>\n",
       "      <td>R</td>\n",
       "      <td>1.0</td>\n",
       "    </tr>\n",
       "    <tr>\n",
       "      <th>1</th>\n",
       "      <td>R</td>\n",
       "      <td>63.0</td>\n",
       "    </tr>\n",
       "    <tr>\n",
       "      <th>2</th>\n",
       "      <td>R</td>\n",
       "      <td>53.0</td>\n",
       "    </tr>\n",
       "    <tr>\n",
       "      <th>3</th>\n",
       "      <td>R</td>\n",
       "      <td>116.0</td>\n",
       "    </tr>\n",
       "    <tr>\n",
       "      <th>4</th>\n",
       "      <td>R</td>\n",
       "      <td>72.0</td>\n",
       "    </tr>\n",
       "    <tr>\n",
       "      <th>...</th>\n",
       "      <td>...</td>\n",
       "      <td>...</td>\n",
       "    </tr>\n",
       "    <tr>\n",
       "      <th>50569</th>\n",
       "      <td>R</td>\n",
       "      <td>110.0</td>\n",
       "    </tr>\n",
       "    <tr>\n",
       "      <th>50570</th>\n",
       "      <td>R</td>\n",
       "      <td>5.0</td>\n",
       "    </tr>\n",
       "    <tr>\n",
       "      <th>50571</th>\n",
       "      <td>R</td>\n",
       "      <td>7.0</td>\n",
       "    </tr>\n",
       "    <tr>\n",
       "      <th>50572</th>\n",
       "      <td>R</td>\n",
       "      <td>5.0</td>\n",
       "    </tr>\n",
       "    <tr>\n",
       "      <th>50573</th>\n",
       "      <td>R</td>\n",
       "      <td>33.0</td>\n",
       "    </tr>\n",
       "  </tbody>\n",
       "</table>\n",
       "<p>47443 rows × 2 columns</p>\n",
       "</div>"
      ],
      "text/plain": [
       "      winner_hand  winner_rank\n",
       "0               R          1.0\n",
       "1               R         63.0\n",
       "2               R         53.0\n",
       "3               R        116.0\n",
       "4               R         72.0\n",
       "...           ...          ...\n",
       "50569           R        110.0\n",
       "50570           R          5.0\n",
       "50571           R          7.0\n",
       "50572           R          5.0\n",
       "50573           R         33.0\n",
       "\n",
       "[47443 rows x 2 columns]"
      ]
     },
     "execution_count": 21,
     "metadata": {},
     "output_type": "execute_result"
    }
   ],
   "source": [
    "X = df_smote.drop('winner_hand', axis=1)\n",
    "Y = df_smote['winner_hand']\n",
    "df_smote"
   ]
  },
  {
   "cell_type": "code",
   "execution_count": 22,
   "id": "accd32ba",
   "metadata": {},
   "outputs": [
    {
     "name": "stdout",
     "output_type": "stream",
     "text": [
      "       winner_rank\n",
      "0          1.00000\n",
      "1         63.00000\n",
      "2         53.00000\n",
      "3        116.00000\n",
      "4         72.00000\n",
      "...            ...\n",
      "86699     25.00000\n",
      "86700    340.82352\n",
      "86701     30.00000\n",
      "86702    106.00000\n",
      "86703      6.00000\n",
      "\n",
      "[86704 rows x 1 columns] 0        R\n",
      "1        R\n",
      "2        R\n",
      "3        R\n",
      "4        R\n",
      "        ..\n",
      "86699    L\n",
      "86700    L\n",
      "86701    L\n",
      "86702    L\n",
      "86703    L\n",
      "Name: winner_hand, Length: 86704, dtype: object\n"
     ]
    }
   ],
   "source": [
    "sm = SMOTE(random_state=42)\n",
    "X_res, Y_res = sm.fit_resample(X, Y)\n",
    "print(X_res, Y_res)"
   ]
  },
  {
   "cell_type": "code",
   "execution_count": 23,
   "id": "dd7a7dea",
   "metadata": {},
   "outputs": [
    {
     "name": "stdout",
     "output_type": "stream",
     "text": [
      "SMOTE over-sampling:\n",
      "       winner_rank winner_hand\n",
      "0          1.00000           R\n",
      "1         63.00000           R\n",
      "2         53.00000           R\n",
      "3        116.00000           R\n",
      "4         72.00000           R\n",
      "...            ...         ...\n",
      "86699     25.00000           L\n",
      "86700    340.82352           L\n",
      "86701     30.00000           L\n",
      "86702    106.00000           L\n",
      "86703      6.00000           L\n",
      "\n",
      "[86704 rows x 2 columns]\n"
     ]
    }
   ],
   "source": [
    "df_smote_over = pd.concat([pd.DataFrame(X_res), pd.DataFrame(Y_res)], axis=1)\n",
    "\n",
    "print('SMOTE over-sampling:')\n",
    "print(df_smote_over)"
   ]
  },
  {
   "cell_type": "code",
   "execution_count": 24,
   "id": "ee0f3885",
   "metadata": {},
   "outputs": [
    {
     "data": {
      "text/plain": [
       "R    43352\n",
       "L    43352\n",
       "Name: winner_hand, dtype: int64"
      ]
     },
     "execution_count": 24,
     "metadata": {},
     "output_type": "execute_result"
    }
   ],
   "source": [
    "df_smote_over['winner_hand'].value_counts()"
   ]
  },
  {
   "cell_type": "code",
   "execution_count": 25,
   "id": "a063f70b",
   "metadata": {},
   "outputs": [
    {
     "name": "stdout",
     "output_type": "stream",
     "text": [
      "Ranking mitjà de les guanyadores per ma dominant:\n",
      "\n",
      "              winner_rank\n",
      "winner_hand             \n",
      "L              72.053043\n",
      "R              69.413868\n",
      "\n",
      "\n",
      "Ranking mitjà de les guanyadores per ma dominant després SMOTE:\n",
      "\n",
      "              winner_rank\n",
      "winner_hand             \n",
      "L              71.874476\n",
      "R              69.413868\n"
     ]
    }
   ],
   "source": [
    "print('Ranking mitjà de les guanyadores per ma dominant:\\n\\n',\n",
    "    df_smote.groupby(['winner_hand']).mean())\n",
    "print('\\n\\nRanking mitjà de les guanyadores per ma dominant després SMOTE:\\n\\n',\n",
    "      df_smote_over.groupby(['winner_hand']).mean())"
   ]
  },
  {
   "cell_type": "markdown",
   "id": "c8f84e5d",
   "metadata": {},
   "source": [
    "### Exercici 3\n",
    "#### Reservoir Sampling"
   ]
  },
  {
   "cell_type": "code",
   "execution_count": 109,
   "id": "db4a72ae",
   "metadata": {
    "scrolled": true
   },
   "outputs": [
    {
     "data": {
      "text/plain": [
       "1594"
      ]
     },
     "execution_count": 109,
     "metadata": {},
     "output_type": "execute_result"
    }
   ],
   "source": [
    "df['winner_rank'].isnull().sum()"
   ]
  },
  {
   "cell_type": "code",
   "execution_count": 146,
   "id": "4a6560fe",
   "metadata": {},
   "outputs": [
    {
     "name": "stdout",
     "output_type": "stream",
     "text": [
      "la mitjana de ranquing és:  78.62\n"
     ]
    },
    {
     "data": {
      "text/plain": [
       "[43064,\n",
       " 19843,\n",
       " 7966,\n",
       " 25466,\n",
       " 45785,\n",
       " 47695,\n",
       " 31918,\n",
       " 18807,\n",
       " 2233,\n",
       " 42274,\n",
       " 6600,\n",
       " 23600,\n",
       " 4364,\n",
       " 32518,\n",
       " 28020,\n",
       " 44434,\n",
       " 14194,\n",
       " 23785,\n",
       " 41035,\n",
       " 33463,\n",
       " 44280,\n",
       " 26821,\n",
       " 18608,\n",
       " 2668,\n",
       " 7575,\n",
       " 49752,\n",
       " 21326,\n",
       " 17184,\n",
       " 14821,\n",
       " 30842,\n",
       " 35183,\n",
       " 15003,\n",
       " 13499,\n",
       " 109,\n",
       " 39252,\n",
       " 39806,\n",
       " 15837,\n",
       " 30685,\n",
       " 13666,\n",
       " 34371,\n",
       " 7840,\n",
       " 34034,\n",
       " 30861,\n",
       " 20302,\n",
       " 34393,\n",
       " 8904,\n",
       " 10226,\n",
       " 36891,\n",
       " 21290,\n",
       " 26938]"
      ]
     },
     "execution_count": 146,
     "metadata": {},
     "output_type": "execute_result"
    }
   ],
   "source": [
    "def reservoir_sampling(sampled_num, total_num):\n",
    "    count=0\n",
    "    nums = []\n",
    "    for i in range(0, total_num):\n",
    "        if i < sampled_num:\n",
    "            nums.append(i)\n",
    "        else:\n",
    "            r = random.randint(0, i)\n",
    "            if r < sampled_num:\n",
    "                nums[r] = i\n",
    "    for tt in nums:\n",
    "        try:\n",
    "            int(df.winner_rank.loc[[tt]]) # per evitar els valors nuls\n",
    "        except:\n",
    "            continue\n",
    "        count=count+int(df.winner_rank.loc[[tt]])\n",
    "    print('la mitjana de ranquing és: ',count/sampled_num)\n",
    "    return nums\n",
    "    \n",
    "reservoir_sampling(50, len(df))"
   ]
  },
  {
   "cell_type": "code",
   "execution_count": null,
   "id": "09286265",
   "metadata": {},
   "outputs": [],
   "source": []
  },
  {
   "cell_type": "code",
   "execution_count": null,
   "id": "5fdd917a",
   "metadata": {},
   "outputs": [],
   "source": []
  }
 ],
 "metadata": {
  "kernelspec": {
   "display_name": "Python 3",
   "language": "python",
   "name": "python3"
  },
  "language_info": {
   "codemirror_mode": {
    "name": "ipython",
    "version": 3
   },
   "file_extension": ".py",
   "mimetype": "text/x-python",
   "name": "python",
   "nbconvert_exporter": "python",
   "pygments_lexer": "ipython3",
   "version": "3.8.5"
  }
 },
 "nbformat": 4,
 "nbformat_minor": 5
}
